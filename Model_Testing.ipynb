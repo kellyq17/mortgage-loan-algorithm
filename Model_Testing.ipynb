{
  "cells": [
    {
      "cell_type": "code",
      "execution_count": null,
      "metadata": {
        "id": "gwuqqKsN0neP",
        "colab": {
          "base_uri": "https://localhost:8080/"
        },
        "outputId": "86024251-49dd-4080-bb15-6217b344096b"
      },
      "outputs": [
        {
          "output_type": "stream",
          "name": "stdout",
          "text": [
            "Mounted at /content/drive/\n"
          ]
        }
      ],
      "source": [
        "import warnings\n",
        "warnings.filterwarnings(\"ignore\")\n",
        "\n",
        "import numpy as np\n",
        "import pandas as pd\n",
        "import torch\n",
        "import torch.nn as nn\n",
        "import torch.nn.functional as F\n",
        "from torch.utils.data import DataLoader, TensorDataset\n",
        "from sklearn.model_selection import train_test_split\n",
        "\n",
        "import matplotlib.pyplot as plt\n",
        "import matplotlib.gridspec as gridspec\n",
        "from IPython import display\n",
        "display.set_matplotlib_formats(\"svg\")\n",
        "\n",
        "from google.colab import drive\n",
        "drive.mount('/content/drive/', force_remount=True)\n"
      ]
    },
    {
      "cell_type": "code",
      "execution_count": null,
      "metadata": {
        "id": "D1r6Q41UCsxZ"
      },
      "outputs": [],
      "source": [
        "#Read in processed data\n",
        "iris = pd.read_csv(\"/content/drive/MyDrive/Colab Notebooks/processed_2022_test_data.csv\")"
      ]
    },
    {
      "cell_type": "code",
      "execution_count": null,
      "metadata": {
        "id": "i7O4rC8TDR94",
        "colab": {
          "base_uri": "https://localhost:8080/"
        },
        "outputId": "5059574d-0816-4f05-8394-d1abc1f860c0"
      },
      "outputs": [
        {
          "output_type": "execute_result",
          "data": {
            "text/plain": [
              "['Unnamed: 0',\n",
              " 'conforming_loan_limit',\n",
              " 'derived_loan_product_type',\n",
              " 'derived_dwelling_category',\n",
              " 'derived_race',\n",
              " 'derived_sex',\n",
              " 'action_taken',\n",
              " 'preapproval',\n",
              " 'loan_type',\n",
              " 'loan_purpose',\n",
              " 'lien_status',\n",
              " 'open_end_line_of_credit',\n",
              " 'business_or_commercial_purpose',\n",
              " 'loan_amount',\n",
              " 'combined_loan_to_value_ratio',\n",
              " 'loan_term',\n",
              " 'negative_amortization',\n",
              " 'interest_only_payment',\n",
              " 'balloon_payment',\n",
              " 'other_nonamortizing_features',\n",
              " 'property_value',\n",
              " 'construction_method',\n",
              " 'occupancy_type',\n",
              " 'manufactured_home_secured_property_type',\n",
              " 'manufactured_home_land_property_interest',\n",
              " 'total_units',\n",
              " 'income',\n",
              " 'debt_to_income_ratio',\n",
              " 'applicant_age',\n",
              " 'tract_population',\n",
              " 'tract_minority_population_percent',\n",
              " 'ffiec_msa_md_median_family_income',\n",
              " 'tract_to_msa_income_percentage',\n",
              " 'tract_owner_occupied_units',\n",
              " 'tract_one_to_four_family_homes',\n",
              " 'tract_median_age_of_housing_units',\n",
              " 'longitude',\n",
              " 'latitude',\n",
              " 'politics']"
            ]
          },
          "metadata": {},
          "execution_count": 36
        }
      ],
      "source": [
        "list(iris.columns)"
      ]
    },
    {
      "cell_type": "code",
      "execution_count": null,
      "metadata": {
        "id": "EI7KDNvfLYU8"
      },
      "outputs": [],
      "source": [
        " #save race as seperate dataframe, but when testing you have to drop the column\n",
        "races=pd.DataFrame(iris['derived_race'], columns=[\"derived_race\"])\n",
        "politics = pd.DataFrame(iris['politics'], columns=[\"politics\"])\n",
        "iris=iris.drop(columns=[ 'Unnamed: 0', 'politics', 'derived_race'])"
      ]
    },
    {
      "cell_type": "markdown",
      "metadata": {
        "id": "hUFyiq86ltsE"
      },
      "source": [
        "### End of Data Cleaning / Testing on Model\n",
        "\n",
        "\n",
        "\n"
      ]
    },
    {
      "cell_type": "code",
      "execution_count": null,
      "metadata": {
        "id": "UrmXMKu-OilT"
      },
      "outputs": [],
      "source": [
        "class Net(nn.Module):\n",
        "    def __init__(self):\n",
        "        super().__init__()\n",
        "        self.input = nn.Linear(in_features=35, out_features=512)\n",
        "        # self.hidden_1 = nn.Linear(in_features=256, out_features=512)\n",
        "        self.output = nn.Linear(in_features=512, out_features=1)\n",
        "\n",
        "    def forward(self, x):\n",
        "        x = F.sigmoid(self.input(x))\n",
        "        # x = F.sigmoid(self.hidden_1(x))\n",
        "        return F.sigmoid(self.output(x))"
      ]
    },
    {
      "cell_type": "code",
      "execution_count": null,
      "metadata": {
        "id": "E8roRZ5XNFRw",
        "colab": {
          "base_uri": "https://localhost:8080/"
        },
        "outputId": "d7f317f6-a478-444f-d878-93cfb05a2386"
      },
      "outputs": [
        {
          "output_type": "execute_result",
          "data": {
            "text/plain": [
              "Net(\n",
              "  (input): Linear(in_features=35, out_features=512, bias=True)\n",
              "  (output): Linear(in_features=512, out_features=1, bias=True)\n",
              ")"
            ]
          },
          "metadata": {},
          "execution_count": 51
        }
      ],
      "source": [
        "model = Net()\n",
        "model.load_state_dict(torch.load(\"/content/drive/MyDrive/Colab Notebooks/mortgage_applications_model.pt\"))\n",
        "model.eval()"
      ]
    },
    {
      "cell_type": "code",
      "source": [
        "iris.drop(iris[iris[\"derived_race\"] ==\"Free Form Text Only\"].index, inplace = True)\n",
        "\n",
        "iris.loc[iris[\"derived_race\"]=='White', \"derived_race\"]=0\n",
        "iris.loc[iris[\"derived_race\"]=='Black or African American', \"derived_race\"]=1\n",
        "iris.loc[iris[\"derived_race\"]=='Joint', \"derived_race\"]=1\n",
        "iris.loc[iris[\"derived_race\"]=='Asian', \"derived_race\"]=1\n",
        "iris.loc[iris[\"derived_race\"]=='2 or more minority races', \"derived_race\"]=1\n",
        "iris.loc[iris[\"derived_race\"]=='Native Hawaiian or Other Pacific Islander', \"derived_race\"]=1\n",
        "iris.loc[iris[\"derived_race\"]=='American Indian or Alaska Native', \"derived_race\"]=1\n",
        "iris[\"derived_race\"]=iris[\"derived_race\"].astype(int)\n",
        "iris[\"derived_race\"]=iris[\"derived_race\"].apply(pd.to_numeric)"
      ],
      "metadata": {
        "id": "v0aXhHWTFAFx"
      },
      "execution_count": null,
      "outputs": []
    },
    {
      "cell_type": "code",
      "execution_count": null,
      "metadata": {
        "id": "IXLm9b56NFwT"
      },
      "outputs": [],
      "source": [
        "cleaned_data = iris"
      ]
    },
    {
      "cell_type": "code",
      "execution_count": null,
      "metadata": {
        "id": "SDj27idZNF_8",
        "colab": {
          "base_uri": "https://localhost:8080/"
        },
        "outputId": "ffed3ed2-1e11-4e70-e525-d684cb7a6de1"
      },
      "outputs": [
        {
          "output_type": "stream",
          "name": "stdout",
          "text": [
            "(755292, 1)\n",
            "(755292, 36)\n"
          ]
        }
      ],
      "source": [
        "#cleaned_data=cleaned_data.drop(columns=[\"derived_race\"])\n",
        "print(races.shape)\n",
        "print(cleaned_data.shape)"
      ]
    },
    {
      "cell_type": "code",
      "execution_count": null,
      "metadata": {
        "id": "JPf2xlKTNGLy",
        "colab": {
          "base_uri": "https://localhost:8080/"
        },
        "outputId": "4e7222e8-7b60-4c36-ff3e-0a15db2332bf"
      },
      "outputs": [
        {
          "output_type": "stream",
          "name": "stdout",
          "text": [
            "torch.Size([755292])\n"
          ]
        }
      ],
      "source": [
        "y = torch.tensor(\n",
        "    [0 if i == 0 else 1 for i in cleaned_data[\"action_taken\"]],\n",
        "    dtype=torch.long\n",
        ")\n",
        "\n",
        "print(y.shape)"
      ]
    },
    {
      "cell_type": "code",
      "execution_count": null,
      "metadata": {
        "id": "6c98N1xYcW9R",
        "colab": {
          "base_uri": "https://localhost:8080/"
        },
        "outputId": "ea3f9c6a-c886-4e8c-b512-5753b9c9968a"
      },
      "outputs": [
        {
          "output_type": "stream",
          "name": "stdout",
          "text": [
            "torch.Size([755292, 35])\n",
            "(755292, 36)\n"
          ]
        }
      ],
      "source": [
        "income = torch.tensor(cleaned_data[\"income\"], dtype = torch.long)\n",
        "\n",
        "cleaned_data = (cleaned_data - cleaned_data.mean())/cleaned_data.std()\n",
        "\n",
        "\n",
        "X = torch.tensor(cleaned_data.drop(\"action_taken\", axis=1).values, dtype=torch.float)\n",
        "print(X.shape)\n",
        "\n",
        "print(cleaned_data.shape)"
      ]
    },
    {
      "cell_type": "code",
      "source": [
        "derived_sex = torch.tensor(cleaned_data['derived_sex'], dtype = torch.long)\n",
        "debt_to_income = torch.tensor(iris['debt_to_income_ratio'], dtype = torch.long)"
      ],
      "metadata": {
        "id": "5NfuB9ypXXd2"
      },
      "execution_count": null,
      "outputs": []
    },
    {
      "cell_type": "markdown",
      "source": [
        "## Creating NISHE dictionary (calculated using Excel)"
      ],
      "metadata": {
        "id": "BOl3TkyONeYm"
      }
    },
    {
      "cell_type": "code",
      "source": [
        "NISHE = {\n",
        "    \"Asian\": {\n",
        "      \"Income\": {\n",
        "          (-500,-1): 1.26,\n",
        "          (0,100): 1.59,\n",
        "          (101,200): 1.26,\n",
        "          (801,900): 1.01,\n",
        "          (901,1000): 1.07\n",
        "      },\n",
        "      \"Debt-to-income ratio\": {\n",
        "          (20,30): 1.161544326,\n",
        "          (31,40): 1.136782846,\n",
        "          (41,50): 1.189517478,\n",
        "          (51,60): 1.375935792\n",
        "      },\n",
        "      \"Political\": {\n",
        "          \"Republican\": 1.444055527,\n",
        "          \"Democrat\": 1.106017308,\n",
        "          \"Swing\": 1.175289741\n",
        "      },\n",
        "      \"Gender\": {\n",
        "          \"Joint\": 1.370066309,\n",
        "          \"Male\": 1.333896224,\n",
        "          \"Female\": 1.480224964\n",
        "      }\n",
        "    },\n",
        "    \"Black or African American\": {\n",
        "      \"Income\": {\n",
        "          (201,300): 1.03,\n",
        "          (301,400): 1.03,\n",
        "          (401,500): 1.20,\n",
        "          (501,600): 1.09,\n",
        "          (801,900): 1.14,\n",
        "          (901,1000): 1.41,\n",
        "          (1000,5000): 1.20\n",
        "      },\n",
        "      \"Debt-to-income ratio\": {\n",
        "\n",
        "      },\n",
        "      \"Political\": {\n",
        "\n",
        "      },\n",
        "      \"Gender\": {\n",
        "\n",
        "      }\n",
        "    },\n",
        "    \"White\": {\n",
        "      \"Income\": {\n",
        "          (401,500): 1.09\n",
        "      },\n",
        "      \"Debt-to-income ratio\": {\n",
        "\n",
        "      },\n",
        "      \"Political\": {\n",
        "\n",
        "      },\n",
        "      \"Gender\": {\n",
        "\n",
        "      }\n",
        "    },\n",
        "    \"Joint\": {\n",
        "      \"Income\": {\n",
        "          (-500,-1): 1.41025641,\n",
        "          (601,700): 1.136781609,\n",
        "      },\n",
        "      \"Debt-to-income ratio\": {\n",
        "          (20,30): 1.161544326,\n",
        "          (31,40): 1.136782846,\n",
        "          (41,50): 1.189517478,\n",
        "          (51,60): 1.375935792\n",
        "      },\n",
        "      \"Political\": {\n",
        "\n",
        "      },\n",
        "      \"Gender\": {\n",
        "\n",
        "      }\n",
        "    },\n",
        "    \"Native Hawaiian or Other Pacific Islander\": {\n",
        "      \"Income\": {\n",
        "          (0,100): 1.12413622,\n",
        "          (201,300): 1.093849253,\n",
        "          (301,400): 1.093285182,\n",
        "          (601,700): 1.15,\n",
        "          (701,800): 1.9375,\n",
        "          (1000,5000): 2.0\n",
        "      },\n",
        "      \"Debt-to-income ratio\": {\n",
        "\n",
        "      },\n",
        "      \"Political\": {\n",
        "          \"Republican\": 1.03300036,\n",
        "          \"Swing\": 1.105983928\n",
        "      },\n",
        "      \"Gender\": {\n",
        "          \"Joint\": 1.032849322,\n",
        "          \"Male\": 1.121450697,\n",
        "          \"Female\": 1.029656739\n",
        "      }\n",
        "    },\n",
        "    \"American Indian or Alaska Native\": {\n",
        "      \"Income\": {\n",
        "          (101,200): 1.065746993,\n",
        "          (201,300): 1.023000556,\n",
        "          (301,400): 1.071419478,\n",
        "          (501,600): 1.247875749,\n",
        "          (601,700): 1.25952381,\n",
        "          (701,800): 1.085\n",
        "      },\n",
        "      \"Debt-to-income ratio\": {\n",
        "\n",
        "      },\n",
        "      \"Political\": {\n",
        "          \"Democrat\": 1.069507037\n",
        "      },\n",
        "      \"Gender\": {\n",
        "          \"Female\": 1.246410021\n",
        "      }\n",
        "    },\n",
        "    \"2 or more minority races\": {\n",
        "      \"Income\": {\n",
        "          (0,100): 1.116843707,\n",
        "          (101,200): 1.150093147,\n",
        "          (401,500): 1.066666667,\n",
        "          (501,600): 1.379231091,\n",
        "          (701,800): 1.1625,\n",
        "          (801,900): 1.854766187,\n",
        "          (1000,5000): 1.691747573\n",
        "      },\n",
        "      \"Debt-to-income ratio\": {\n",
        "          (20,30): 2.909090909,\n",
        "          (31,40): 2.327244462,\n",
        "          (41,50): 1.598652107,\n",
        "          (51,60): 1\n",
        "      },\n",
        "      \"Political\": {\n",
        "          \"Republican\": 1.040509259,\n",
        "          \"Democrat\": 1.056728661,\n",
        "          \"Swing\": 1.056728661\n",
        "      },\n",
        "      \"Gender\": {\n",
        "          \"Joint\": 1.074808026,\n",
        "          \"Male\": 1.053723017\n",
        "      }\n",
        "    }\n",
        "}"
      ],
      "metadata": {
        "id": "BPlP_GqJNi2Y"
      },
      "execution_count": null,
      "outputs": []
    },
    {
      "cell_type": "code",
      "source": [
        "def NISHE_scaled_output(race, income, political_group, gender, dti_ratio):\n",
        "  scale = []\n",
        "  race_dict = NISHE[race]\n",
        "  race_dict_income = race_dict[\"Income\"]\n",
        "  race_dict_political = race_dict[\"Political\"]\n",
        "  race_dict_gender = race_dict[\"Gender\"]\n",
        "  race_dict_dti = race_dict[\"Debt-to-income ratio\"]\n",
        "\n",
        "  bracket = int(income / 100)\n",
        "  if bracket < 0:\n",
        "    income = (-500,-1)\n",
        "  elif bracket == 0:\n",
        "    income = (0,100)\n",
        "  elif bracket < 10:\n",
        "    income = ((100 * bracket + 1), (100*(bracket+1)))\n",
        "  else:\n",
        "    income = (1000,5000)\n",
        "\n",
        "  dti_ratio = int(dti_ratio / 10)\n",
        "  if dti_ratio ==2:\n",
        "    dti_ratio = (20,30)\n",
        "  elif dti_ratio == 3:\n",
        "    dti_ratio = (31,40)\n",
        "  elif dti_ratio == 4:\n",
        "    dti_ratio = (41,50)\n",
        "  elif dti_ratio == 5:\n",
        "    dti_ratio = (51,60)\n",
        "  elif dti_ratio >= 6:\n",
        "    dti_ratio = (61,84)\n",
        "\n",
        "  if income in race_dict_income:\n",
        "    scale.append(race_dict_income[income])\n",
        "  if political_group in race_dict_political:\n",
        "    scale.append(race_dict_political[political_group])\n",
        "  if gender in race_dict_gender:\n",
        "    scale.append(race_dict_gender[gender])\n",
        "  if dti_ratio in race_dict_dti:\n",
        "    scale.append(race_dict_dti[dti_ratio])\n",
        "\n",
        "  if len(scale) > 0:\n",
        "    mean = np.mean(scale)\n",
        "    # if race != \"White\":\n",
        "    #   return mean * 0.8\n",
        "    return mean\n",
        "  else:\n",
        "    return 1.0"
      ],
      "metadata": {
        "id": "OnwCgrrxXvZm"
      },
      "execution_count": null,
      "outputs": []
    },
    {
      "cell_type": "markdown",
      "metadata": {
        "id": "gV7aD9GFIqo5"
      },
      "source": [
        "##Testing on Income Brackets by Race"
      ]
    },
    {
      "cell_type": "code",
      "execution_count": null,
      "metadata": {
        "id": "1YqYATXpNVE9"
      },
      "outputs": [],
      "source": [
        "def calculate_race_approval_accuracy(race):\n",
        "  approved_predictions = 0\n",
        "  accurate_predictions = 0\n",
        "  total_predictions = 0\n",
        "  income_approvals = {\n",
        "      (-500,-1): 0,\n",
        "      (0,100): 0,\n",
        "      (101,200): 0,\n",
        "      (201,300): 0,\n",
        "      (301,400): 0,\n",
        "      (401,500): 0,\n",
        "      (501,600): 0,\n",
        "      (601,700): 0,\n",
        "      (701,800): 0,\n",
        "      (801,900): 0,\n",
        "      (901,1000): 0,\n",
        "      (1000,5000): 0\n",
        "  }\n",
        "\n",
        "  income_bracket_totals = {\n",
        "      (-500,-1): 0,\n",
        "      (0,100): 0,\n",
        "      (101,200): 0,\n",
        "      (201,300): 0,\n",
        "      (301,400): 0,\n",
        "      (401,500): 0,\n",
        "      (501,600): 0,\n",
        "      (601,700): 0,\n",
        "      (701,800): 0,\n",
        "      (801,900): 0,\n",
        "      (901,1000): 0,\n",
        "      (1000,5000): 0\n",
        "  }\n",
        "\n",
        "  for index, row in races.iterrows():\n",
        "      if index >= 754423:\n",
        "        break\n",
        "      # print(row['derived_race'])\n",
        "      if row['derived_race'] == race:\n",
        "          output = model(X[index].cpu())\n",
        "          # output = y[index]\n",
        "          i = income[index]\n",
        "          # print(i)\n",
        "          bracket = int(i / 100)\n",
        "          if bracket < 0:\n",
        "            bracket_tuple = (-500,-1)\n",
        "          elif bracket == 0:\n",
        "            bracket_tuple = (0,100)\n",
        "          elif bracket < 10:\n",
        "            bracket_tuple = ((100 * bracket + 1), (100*(bracket+1)))\n",
        "          else:\n",
        "            bracket_tuple = (1000,5000)\n",
        "          political_group = politics.iloc[:, 0][index]\n",
        "          scale = NISHE_scaled_output(race, i, political_group, derived_sex[index], debt_to_income[index])\n",
        "          # print(bracket)\n",
        "          # print(output)\n",
        "          output *= scale\n",
        "          output = 1 if output >= 0.5 else 0\n",
        "\n",
        "          if output == 1:\n",
        "              income_approvals[bracket_tuple] += 1\n",
        "              approved_predictions += 1\n",
        "\n",
        "          income_bracket_totals[bracket_tuple] += 1\n",
        "\n",
        "          if output == y[index]:\n",
        "              accurate_predictions += 1\n",
        "          total_predictions += 1\n",
        "\n",
        "  print(total_predictions)\n",
        "  print(accurate_predictions)\n",
        "  print(approved_predictions)\n",
        "  percentage_approval = approved_predictions / total_predictions\n",
        "  percentage_accuracy = accurate_predictions / total_predictions\n",
        "\n",
        "  print(f'Approval rate for {race} applicants: {percentage_approval * 100:.2f}%')\n",
        "  print(f'Accuracy rate for {race} applicants: {percentage_accuracy * 100:.2f}%')\n",
        "\n",
        "  for key, val in income_approvals.items():\n",
        "    if income_bracket_totals[key] == 0:\n",
        "      perc = \"No one in bracket\"\n",
        "    else:\n",
        "      perc = val/income_bracket_totals[key] * 100\n",
        "    #print(f'Income bracket approval for bracket {key} for {race} applicants: {perc}%')\n",
        "    print(perc)"
      ]
    },
    {
      "cell_type": "code",
      "execution_count": null,
      "metadata": {
        "id": "MH2trtrfOWtQ",
        "colab": {
          "base_uri": "https://localhost:8080/"
        },
        "outputId": "7a74123f-de5f-4874-812b-25f7b90813c1"
      },
      "outputs": [
        {
          "output_type": "execute_result",
          "data": {
            "text/plain": [
              "array(['Black or African American', 'White', 'Asian', 'Joint',\n",
              "       'Native Hawaiian or Other Pacific Islander',\n",
              "       'American Indian or Alaska Native', '2 or more minority races',\n",
              "       'Free Form Text Only'], dtype=object)"
            ]
          },
          "metadata": {},
          "execution_count": 19
        }
      ],
      "source": [
        "races['derived_race'].unique()\n"
      ]
    },
    {
      "cell_type": "code",
      "execution_count": null,
      "metadata": {
        "id": "YNfEoMGhOh3w",
        "colab": {
          "base_uri": "https://localhost:8080/"
        },
        "outputId": "8935c475-67f9-4faa-98af-8171b52cb952"
      },
      "outputs": [
        {
          "output_type": "stream",
          "name": "stdout",
          "text": [
            "58595\n",
            "37929\n",
            "24350\n",
            "Approval rate for Asian applicants: 41.56%\n",
            "Accuracy rate for Asian applicants: 64.73%\n",
            "26.31578947368421\n",
            "37.31003337914785\n",
            "43.795938104448744\n",
            "44.82354663933226\n",
            "48.01980198019802\n",
            "50.5008347245409\n",
            "52.83993115318416\n",
            "51.28205128205128\n",
            "47.08994708994709\n",
            "38.1294964028777\n",
            "42.04545454545455\n",
            "48.30097087378641\n"
          ]
        }
      ],
      "source": [
        "calculate_race_approval_accuracy(\"Asian\")"
      ]
    },
    {
      "cell_type": "code",
      "execution_count": null,
      "metadata": {
        "colab": {
          "base_uri": "https://localhost:8080/"
        },
        "id": "I4qkv1hcNVuk",
        "outputId": "f34f66fc-e2a2-4c44-b04f-87cd4342fc96"
      },
      "outputs": [
        {
          "output_type": "stream",
          "name": "stdout",
          "text": [
            "121384\n",
            "68305\n",
            "59047\n",
            "Approval rate for Black or African American applicants: 48.64%\n",
            "Accuracy rate for Black or African American applicants: 56.27%\n",
            "28.205128205128204\n",
            "49.60849855762626\n",
            "47.89594491201224\n",
            "39.02038903210687\n",
            "38.78787878787879\n",
            "41.41414141414141\n",
            "38.46153846153847\n",
            "37.81512605042017\n",
            "38.75\n",
            "40.816326530612244\n",
            "42.22222222222222\n",
            "36.771300448430495\n"
          ]
        }
      ],
      "source": [
        "calculate_race_approval_accuracy(\"Black or African American\")"
      ]
    },
    {
      "cell_type": "code",
      "source": [
        "calculate_race_approval_accuracy(\"American Indian or Alaska Native\")"
      ],
      "metadata": {
        "colab": {
          "base_uri": "https://localhost:8080/"
        },
        "id": "zB2AupBGjtw8",
        "outputId": "bf326574-4a6d-4ba8-bd66-e02ed6f74f0c"
      },
      "execution_count": null,
      "outputs": [
        {
          "output_type": "stream",
          "name": "stdout",
          "text": [
            "9261\n",
            "5299\n",
            "4376\n",
            "Approval rate for American Indian or Alaska Native applicants: 47.25%\n",
            "Accuracy rate for American Indian or Alaska Native applicants: 57.22%\n",
            "66.66666666666666\n",
            "47.92984473835538\n",
            "46.644295302013425\n",
            "39.05723905723906\n",
            "38.095238095238095\n",
            "41.02564102564102\n",
            "42.10526315789473\n",
            "39.130434782608695\n",
            "42.857142857142854\n",
            "37.5\n",
            "75.0\n",
            "50.0\n"
          ]
        }
      ]
    },
    {
      "cell_type": "code",
      "source": [
        "calculate_race_approval_accuracy(\"2 or more minority races\")"
      ],
      "metadata": {
        "colab": {
          "base_uri": "https://localhost:8080/"
        },
        "id": "O7S5a106jw3h",
        "outputId": "eadba587-6dce-4cc6-fdbe-d71cd9cf8cd4"
      },
      "execution_count": null,
      "outputs": [
        {
          "output_type": "stream",
          "name": "stdout",
          "text": [
            "3419\n",
            "1888\n",
            "1732\n",
            "Approval rate for 2 or more minority races applicants: 50.66%\n",
            "Accuracy rate for 2 or more minority races applicants: 55.22%\n",
            "No one in bracket\n",
            "49.17175239755885\n",
            "51.886792452830186\n",
            "58.857142857142854\n",
            "60.416666666666664\n",
            "61.53846153846154\n",
            "71.42857142857143\n",
            "83.33333333333334\n",
            "66.66666666666666\n",
            "40.0\n",
            "66.66666666666666\n",
            "47.05882352941176\n"
          ]
        }
      ]
    },
    {
      "cell_type": "code",
      "source": [
        "calculate_race_approval_accuracy(\"Native Hawaiian or Other Pacific Islander\")"
      ],
      "metadata": {
        "colab": {
          "base_uri": "https://localhost:8080/"
        },
        "id": "MOfRB0QJj4j3",
        "outputId": "553a1797-f829-4a92-9c6b-33288ab51785"
      },
      "execution_count": null,
      "outputs": [
        {
          "output_type": "stream",
          "name": "stdout",
          "text": [
            "3479\n",
            "2047\n",
            "1569\n",
            "Approval rate for Native Hawaiian or Other Pacific Islander applicants: 45.10%\n",
            "Accuracy rate for Native Hawaiian or Other Pacific Islander applicants: 58.84%\n",
            "0.0\n",
            "44.429766622633196\n",
            "48.148148148148145\n",
            "40.49079754601227\n",
            "35.0\n",
            "44.44444444444444\n",
            "70.0\n",
            "33.33333333333333\n",
            "40.0\n",
            "0.0\n",
            "0.0\n",
            "47.61904761904761\n"
          ]
        }
      ]
    },
    {
      "cell_type": "code",
      "source": [
        "calculate_race_approval_accuracy(\"White\")"
      ],
      "metadata": {
        "colab": {
          "base_uri": "https://localhost:8080/"
        },
        "id": "wpYAtBVoraCu",
        "outputId": "91583be6-b4af-47a6-fd3a-a664942bf9df"
      },
      "execution_count": null,
      "outputs": [
        {
          "output_type": "stream",
          "name": "stdout",
          "text": [
            "539136\n",
            "324053\n",
            "254206\n",
            "Approval rate for White applicants: 47.15%\n",
            "Accuracy rate for White applicants: 60.11%\n",
            "30.54003724394786\n",
            "48.55165830146357\n",
            "46.74628563304187\n",
            "39.79072309854755\n",
            "38.23128013829497\n",
            "41.11578947368421\n",
            "39.406602590890095\n",
            "38.983050847457626\n",
            "41.71656686626746\n",
            "43.27485380116959\n",
            "43.9453125\n",
            "43.52705410821643\n"
          ]
        }
      ]
    },
    {
      "cell_type": "code",
      "source": [
        "calculate_race_approval_accuracy(\"Joint\")"
      ],
      "metadata": {
        "colab": {
          "base_uri": "https://localhost:8080/"
        },
        "id": "xe_Y4xoI9p65",
        "outputId": "260a42dc-9861-40d4-a728-0fe2a5dd2132"
      },
      "execution_count": null,
      "outputs": [
        {
          "output_type": "stream",
          "name": "stdout",
          "text": [
            "18280\n",
            "10332\n",
            "9628\n",
            "Approval rate for Joint applicants: 52.67%\n",
            "Accuracy rate for Joint applicants: 56.52%\n",
            "25.0\n",
            "52.838658568787956\n",
            "54.2808703023453\n",
            "50.345781466113415\n",
            "47.32394366197183\n",
            "48.85245901639344\n",
            "52.63157894736842\n",
            "36.04651162790697\n",
            "41.17647058823529\n",
            "54.54545454545454\n",
            "54.54545454545454\n",
            "50.54945054945055\n"
          ]
        }
      ]
    },
    {
      "cell_type": "markdown",
      "metadata": {
        "id": "aSLVy_IlHLJF"
      },
      "source": [
        "##Testing on Political Differences"
      ]
    },
    {
      "cell_type": "code",
      "execution_count": null,
      "metadata": {
        "colab": {
          "base_uri": "https://localhost:8080/"
        },
        "id": "BqpGy4VnHPgg",
        "outputId": "2acc6bdc-9fea-42b3-a1e2-d77869525b56"
      },
      "outputs": [
        {
          "output_type": "stream",
          "name": "stdout",
          "text": [
            "58613\n",
            "24586\n",
            "Approval rate for Asian applicants: 41.95%\n",
            "42.802206988797856\n",
            "38.71763255240444\n",
            "41.73378977043898\n",
            "539883\n",
            "254860\n",
            "Approval rate for White applicants: 47.21%\n",
            "50.626318835158024\n",
            "39.8951392925815\n",
            "44.743917846383106\n",
            "121467\n",
            "59116\n",
            "Approval rate for Black or African American applicants: 48.67%\n",
            "51.34697482702782\n",
            "42.620329855267585\n",
            "48.36341788354536\n",
            "18292\n",
            "8651\n",
            "Approval rate for Joint applicants: 47.29%\n",
            "46.391369047619044\n",
            "44.44592080786606\n",
            "42.860623781676416\n",
            "3480\n",
            "1570\n",
            "Approval rate for Native Hawaiian or Other Pacific Islander applicants: 45.11%\n",
            "47.69874476987448\n",
            "44.35102469784551\n",
            "41.59891598915989\n",
            "3420\n",
            "1515\n",
            "Approval rate for 2 or more minority races applicants: 44.30%\n",
            "47.58064516129033\n",
            "40.0\n",
            "43.91100702576112\n",
            "9268\n",
            "4379\n",
            "Approval rate for American Indian or Alaska Native applicants: 47.25%\n",
            "51.79794520547946\n",
            "39.55154157583307\n",
            "44.380853277835584\n"
          ]
        }
      ],
      "source": [
        "def calculate_race_approval_accuracy_politics_real(race):\n",
        "  approved_predictions = 0\n",
        "  total_predictions = 0\n",
        "  accurate_predictions=0\n",
        "  politics_approvals = {\n",
        "      'republican': 0,\n",
        "      'democrat': 0,\n",
        "      'swing': 0,\n",
        "  }\n",
        "\n",
        "  politics_totals = {\n",
        "      'republican': 0,\n",
        "      'democrat': 0,\n",
        "      'swing': 0,\n",
        "  }\n",
        "\n",
        "  for index, row in races.iterrows():\n",
        "      if index >= 755292:\n",
        "        break\n",
        "      if row['derived_race'] == race:\n",
        "          output = model(X[index])\n",
        "          bracket = politics[\"politics\"][index]\n",
        "          scale = NISHE_scaled_output(race, income[index], bracket, derived_sex[index], debt_to_income[index])\n",
        "          output *= scale\n",
        "          output = 1 if output >= 0.5 else 0\n",
        "\n",
        "          if output == 1:\n",
        "            if bracket ==\"Republican\":\n",
        "              politics_approvals['republican'] += 1\n",
        "            elif bracket == \"Democrat\":\n",
        "              politics_approvals['democrat'] += 1\n",
        "            elif bracket == \"Swing\":\n",
        "              politics_approvals['swing'] += 1\n",
        "            approved_predictions+=1\n",
        "\n",
        "          if output == y[index]:\n",
        "            accurate_predictions += 1\n",
        "\n",
        "          if bracket ==\"Republican\":\n",
        "            politics_totals['republican'] += 1\n",
        "          elif bracket == \"Democrat\":\n",
        "            politics_totals['democrat'] += 1\n",
        "          elif bracket == \"Swing\":\n",
        "            politics_totals['swing'] += 1\n",
        "\n",
        "          total_predictions += 1\n",
        "\n",
        "  print(total_predictions)\n",
        "  print(approved_predictions)\n",
        "  percentage_approval = approved_predictions / total_predictions\n",
        "\n",
        "  print(f'Approval rate for {race} applicants: {percentage_approval * 100:.2f}%')\n",
        "\n",
        "  for key, val in politics_approvals.items():\n",
        "    if politics_totals[key] == 0:\n",
        "      perc = \"No one in bracket\"\n",
        "    else:\n",
        "      perc = val/politics_totals[key] * 100\n",
        "    #print(f'Income bracket approval for bracket {key} for {race} applicants: {perc}%')\n",
        "    print(perc)\n",
        "\n",
        "\n",
        "calculate_race_approval_accuracy_politics_real(\"Asian\")\n",
        "calculate_race_approval_accuracy_politics_real(\"White\")\n",
        "calculate_race_approval_accuracy_politics_real(\"Black or African American\")\n",
        "calculate_race_approval_accuracy_politics_real(\"Joint\")\n",
        "calculate_race_approval_accuracy_politics_real(\"Native Hawaiian or Other Pacific Islander\")\n",
        "calculate_race_approval_accuracy_politics_real(\"2 or more minority races\")\n",
        "calculate_race_approval_accuracy_politics_real(\"American Indian or Alaska Native\")\n"
      ]
    },
    {
      "cell_type": "markdown",
      "source": [
        "## Intersectionality of race with gender"
      ],
      "metadata": {
        "id": "SFYdP8TffATL"
      }
    },
    {
      "cell_type": "code",
      "source": [
        "def calculate_race_gender_approval(race, gender):\n",
        "  approved_predictions = 0\n",
        "  total_predictions = 0\n",
        "\n",
        "  for index, row in races.iterrows():\n",
        "      if index >= 755292:\n",
        "        break\n",
        "      # print(row['derived_race'])\n",
        "      if row['derived_race'] == race and derived_sex[index] == gender:\n",
        "          output = model(X[index].cpu())\n",
        "          # output = y[index]\n",
        "          scale = NISHE_scaled_output(race, income[index], politics.iloc[:, 0][index], gender, debt_to_income[index])\n",
        "          output *= scale\n",
        "          output = 1 if output >= 0.5 else 0\n",
        "\n",
        "          if output == 1:\n",
        "              approved_predictions += 1\n",
        "          total_predictions += 1\n",
        "  percentage_approval = approved_predictions / total_predictions\n",
        "\n",
        "  if gender == 0:\n",
        "    gender_name = \"Joint\"\n",
        "  elif gender == 1:\n",
        "    gender_name = \"Male\"\n",
        "  else:\n",
        "    gender_name = \"Female\"\n",
        "\n",
        "  print(f'Approval rate for {race} {gender_name} applicants: {percentage_approval * 100:.2f}%')"
      ],
      "metadata": {
        "id": "oehTaj_lfEwO"
      },
      "execution_count": null,
      "outputs": []
    },
    {
      "cell_type": "code",
      "source": [
        "calculate_race_gender_approval(\"Black or African American\", 0)\n",
        "calculate_race_gender_approval(\"Black or African American\", 1)\n",
        "calculate_race_gender_approval(\"Black or African American\", 2)"
      ],
      "metadata": {
        "colab": {
          "base_uri": "https://localhost:8080/"
        },
        "id": "lZYqrF-Iicuh",
        "outputId": "c41c27ab-d038-46bd-af67-9c3ae616276c"
      },
      "execution_count": null,
      "outputs": [
        {
          "output_type": "stream",
          "name": "stdout",
          "text": [
            "Approval rate for Black or African American Joint applicants: 48.91%\n",
            "Approval rate for Black or African American Male applicants: 47.21%\n",
            "Approval rate for Black or African American Female applicants: 45.79%\n"
          ]
        }
      ]
    },
    {
      "cell_type": "code",
      "source": [
        "calculate_race_gender_approval(\"American Indian or Alaska Native\", 0)\n",
        "calculate_race_gender_approval(\"American Indian or Alaska Native\", 1)\n",
        "calculate_race_gender_approval(\"American Indian or Alaska Native\", 2)\n",
        "calculate_race_gender_approval(\"Asian\", 0)\n",
        "calculate_race_gender_approval(\"Asian\", 1)\n",
        "calculate_race_gender_approval(\"Asian\", 2)\n",
        "calculate_race_gender_approval(\"Native Hawaiian or Other Pacific Islander\", 0)\n",
        "calculate_race_gender_approval(\"Native Hawaiian or Other Pacific Islander\", 1)\n",
        "calculate_race_gender_approval(\"Native Hawaiian or Other Pacific Islander\", 2)\n",
        "calculate_race_gender_approval(\"Joint\", 0)\n",
        "calculate_race_gender_approval(\"Joint\", 1)\n",
        "calculate_race_gender_approval(\"Joint\", 2)\n",
        "calculate_race_gender_approval(\"2 or more minority races\", 0)\n",
        "calculate_race_gender_approval(\"2 or more minority races\", 1)\n",
        "calculate_race_gender_approval(\"2 or more minority races\", 2)"
      ],
      "metadata": {
        "colab": {
          "base_uri": "https://localhost:8080/"
        },
        "id": "t_MYEIRBSRVG",
        "outputId": "f7e79efd-5c3b-46fd-800b-bd251f04ce73"
      },
      "execution_count": null,
      "outputs": [
        {
          "output_type": "stream",
          "name": "stdout",
          "text": [
            "Approval rate for American Indian or Alaska Native Joint applicants: 46.24%\n",
            "Approval rate for American Indian or Alaska Native Male applicants: 48.02%\n",
            "Approval rate for American Indian or Alaska Native Female applicants: 34.55%\n",
            "Approval rate for Asian Joint applicants: 39.34%\n",
            "Approval rate for Asian Male applicants: 40.64%\n",
            "Approval rate for Asian Female applicants: 34.06%\n",
            "Approval rate for Native Hawaiian or Other Pacific Islander Joint applicants: 44.39%\n",
            "Approval rate for Native Hawaiian or Other Pacific Islander Male applicants: 40.81%\n",
            "Approval rate for Native Hawaiian or Other Pacific Islander Female applicants: 39.62%\n",
            "Approval rate for Joint Joint applicants: 44.77%\n",
            "Approval rate for Joint Male applicants: 45.66%\n",
            "Approval rate for Joint Female applicants: 42.37%\n",
            "Approval rate for 2 or more minority races Joint applicants: 42.74%\n",
            "Approval rate for 2 or more minority races Male applicants: 44.33%\n",
            "Approval rate for 2 or more minority races Female applicants: 44.90%\n"
          ]
        }
      ]
    },
    {
      "cell_type": "code",
      "source": [
        "calculate_race_gender_approval(\"White\", 0)\n",
        "calculate_race_gender_approval(\"White\", 1)\n",
        "calculate_race_gender_approval(\"White\", 2)"
      ],
      "metadata": {
        "colab": {
          "base_uri": "https://localhost:8080/"
        },
        "id": "Xjblftjc_psB",
        "outputId": "a1bac8a5-9444-4c92-c072-564c867f1103"
      },
      "execution_count": null,
      "outputs": [
        {
          "output_type": "stream",
          "name": "stdout",
          "text": [
            "Approval rate for White Joint applicants: 45.21%\n",
            "Approval rate for White Male applicants: 46.16%\n",
            "Approval rate for White Female applicants: 41.97%\n"
          ]
        }
      ]
    },
    {
      "cell_type": "code",
      "source": [
        "def calculate_race_approval_accuracy_debt(race):\n",
        "  approved_predictions = 0\n",
        "  accurate_predictions = 0\n",
        "  total_predictions = 0\n",
        "  debt_income_approvals = {\n",
        "      (20,30): 0,\n",
        "      (31,40): 0,\n",
        "      (41,50): 0,\n",
        "      (51,60): 0,\n",
        "      (61,84): 0,\n",
        "  }\n",
        "\n",
        "  debt_income_totals = {\n",
        "      (20,30): 0,\n",
        "      (31,40): 0,\n",
        "      (41,50): 0,\n",
        "      (51,60): 0,\n",
        "      (61,84): 0,\n",
        "  }\n",
        "\n",
        "  for index, row in races.iterrows():\n",
        "      if index >= 755292:\n",
        "        break\n",
        "      if row['derived_race'] == race:\n",
        "          output = model(X[index])\n",
        "          i = debt_to_income[index]\n",
        "          bracket = int(i / 10)\n",
        "          scale = NISHE_scaled_output(race, income[index], politics.iloc[:, 0][index], derived_sex[index], i)\n",
        "          output *= scale\n",
        "          output = 1 if output >= 0.5 else 0\n",
        "\n",
        "          if output == 1:\n",
        "              if bracket ==2:\n",
        "                debt_income_approvals[(20,30)] += 1\n",
        "              elif bracket == 3:\n",
        "                debt_income_approvals[(31,40)] += 1\n",
        "              elif bracket == 4:\n",
        "                debt_income_approvals[(41,50)] += 1\n",
        "              elif bracket == 5:\n",
        "                debt_income_approvals[(51,60)] += 1\n",
        "              elif bracket >= 6:\n",
        "                debt_income_approvals[(61,84)] += 1\n",
        "              approved_predictions += 1\n",
        "\n",
        "          if bracket ==2:\n",
        "            debt_income_totals[(20,30)] += 1\n",
        "          elif bracket == 3:\n",
        "            debt_income_totals[(31,40)] += 1\n",
        "          elif bracket == 4:\n",
        "            debt_income_totals[(41,50)] += 1\n",
        "          elif bracket == 5:\n",
        "            debt_income_totals[(51,60)] += 1\n",
        "          elif bracket >= 6:\n",
        "            debt_income_totals[(61,84)] += 1\n",
        "\n",
        "          if output == y[index]:\n",
        "              accurate_predictions += 1\n",
        "          total_predictions += 1\n",
        "\n",
        "  print(total_predictions)\n",
        "  print(accurate_predictions)\n",
        "  print(approved_predictions)\n",
        "  percentage_approval = approved_predictions / total_predictions\n",
        "  percentage_accuracy = accurate_predictions / total_predictions\n",
        "\n",
        "  print(f'Approval rate for {race} applicants: {percentage_approval * 100:.2f}%')\n",
        "  print(f'Accuracy rate for {race} applicants: {percentage_accuracy * 100:.2f}%')\n",
        "\n",
        "  for key, val in debt_income_approvals.items():\n",
        "    if debt_income_totals[key] == 0:\n",
        "      perc = \"No one in bracket\"\n",
        "    else:\n",
        "      perc = val/debt_income_totals[key] * 100\n",
        "    #print(f'Income bracket approval for bracket {key} for {race} applicants: {perc}%')\n",
        "    print(perc)\n"
      ],
      "metadata": {
        "id": "qZkHpIVNzFOi"
      },
      "execution_count": null,
      "outputs": []
    },
    {
      "cell_type": "code",
      "source": [
        "calculate_race_approval_accuracy_debt(\"American Indian or Alaska Native\")\n",
        "calculate_race_approval_accuracy_debt(\"Asian\")\n",
        "calculate_race_approval_accuracy_debt(\"Black or African American\")\n",
        "\n",
        "calculate_race_approval_accuracy_debt(\"Native Hawaiian or Other Pacific Islander\")\n",
        "calculate_race_approval_accuracy_debt(\"Joint\")"
      ],
      "metadata": {
        "colab": {
          "base_uri": "https://localhost:8080/"
        },
        "id": "pc4GwCyeAHlP",
        "outputId": "e5878082-9d2f-4069-a33f-9ac777990c26"
      },
      "execution_count": null,
      "outputs": [
        {
          "output_type": "stream",
          "name": "stdout",
          "text": [
            "9268\n",
            "5305\n",
            "4379\n",
            "Approval rate for American Indian or Alaska Native applicants: 47.25%\n",
            "Accuracy rate for American Indian or Alaska Native applicants: 57.24%\n",
            "48.46534653465346\n",
            "67.5219446320054\n",
            "71.25841532884516\n",
            "56.918687589158345\n",
            "9.285127362366474\n",
            "58613\n",
            "37942\n",
            "24367\n",
            "Approval rate for Asian applicants: 41.57%\n",
            "Accuracy rate for Asian applicants: 64.73%\n",
            "44.18103448275862\n",
            "60.484699116861776\n",
            "66.42043705755617\n",
            "46.493079990616934\n",
            "7.99650043744532\n",
            "121467\n",
            "68348\n",
            "59116\n",
            "Approval rate for Black or African American applicants: 48.67%\n",
            "Accuracy rate for Black or African American applicants: 56.27%\n",
            "48.7690044139284\n",
            "66.08901954716592\n",
            "71.30255189554381\n",
            "60.73308359808431\n",
            "9.930694305694306\n",
            "3480\n",
            "2048\n",
            "1570\n",
            "Approval rate for Native Hawaiian or Other Pacific Islander applicants: 45.11%\n",
            "Accuracy rate for Native Hawaiian or Other Pacific Islander applicants: 58.85%\n",
            "46.30434782608695\n",
            "62.44979919678715\n",
            "70.68062827225131\n",
            "57.38255033557047\n",
            "14.113597246127366\n",
            "18292\n",
            "10341\n",
            "9640\n",
            "Approval rate for Joint applicants: 52.70%\n",
            "Accuracy rate for Joint applicants: 56.53%\n",
            "55.25988560059687\n",
            "65.21056761705466\n",
            "71.3707758210376\n",
            "61.57770800627943\n",
            "9.653866955110871\n"
          ]
        }
      ]
    },
    {
      "cell_type": "code",
      "source": [
        "calculate_race_approval_accuracy_debt(\"2 or more minority races\")"
      ],
      "metadata": {
        "colab": {
          "base_uri": "https://localhost:8080/"
        },
        "id": "4h8ytWxj5Frn",
        "outputId": "1157c051-1a33-44ba-fcc6-e03a4ce06268"
      },
      "execution_count": null,
      "outputs": [
        {
          "output_type": "stream",
          "name": "stdout",
          "text": [
            "3420\n",
            "1888\n",
            "1733\n",
            "Approval rate for 2 or more minority races applicants: 50.67%\n",
            "Accuracy rate for 2 or more minority races applicants: 55.20%\n",
            "65.05636070853463\n",
            "72.80701754385966\n",
            "74.96740547588006\n",
            "52.63157894736842\n",
            "12.878048780487806\n"
          ]
        }
      ]
    },
    {
      "cell_type": "code",
      "source": [
        "calculate_race_approval_accuracy_debt(\"White\")"
      ],
      "metadata": {
        "colab": {
          "base_uri": "https://localhost:8080/"
        },
        "id": "zxhaM2mJAEiM",
        "outputId": "18fdbf37-6122-41bb-bd7e-32714a7f2f78"
      },
      "execution_count": null,
      "outputs": [
        {
          "output_type": "stream",
          "name": "stdout",
          "text": [
            "539883\n",
            "324551\n",
            "254860\n",
            "Approval rate for White applicants: 47.21%\n",
            "Accuracy rate for White applicants: 60.12%\n",
            "48.63863950276243\n",
            "62.47795414462081\n",
            "66.65036250463486\n",
            "51.30968279363736\n",
            "8.562248037569569\n"
          ]
        }
      ]
    }
  ],
  "metadata": {
    "colab": {
      "provenance": []
    },
    "kernelspec": {
      "display_name": "Python 3",
      "name": "python3"
    },
    "language_info": {
      "name": "python"
    }
  },
  "nbformat": 4,
  "nbformat_minor": 0
}